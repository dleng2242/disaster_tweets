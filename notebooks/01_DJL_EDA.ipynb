{
 "cells": [
  {
   "attachments": {},
   "cell_type": "markdown",
   "metadata": {},
   "source": [
    "# NLP disaster tweets EDA\n",
    "\n",
    "Super quick EDA"
   ]
  },
  {
   "cell_type": "code",
   "execution_count": null,
   "metadata": {},
   "outputs": [],
   "source": [
    "import pandas as pd\n",
    "import numpy as np\n",
    "import matplotlib.pyplot as plt\n",
    "import os"
   ]
  },
  {
   "cell_type": "code",
   "execution_count": null,
   "metadata": {},
   "outputs": [],
   "source": [
    "data_path = os.path.join(\"..\", \"data\", \"train.csv\")\n",
    "df_train = pd.read_csv(data_path)\n",
    "df_train.head()"
   ]
  },
  {
   "cell_type": "markdown",
   "metadata": {},
   "source": [
    "# Shape/Size of data\n",
    "\n",
    "* 7,613 tweets\n",
    "* 5 columns"
   ]
  },
  {
   "cell_type": "code",
   "execution_count": null,
   "metadata": {},
   "outputs": [],
   "source": [
    "df_train.shape"
   ]
  },
  {
   "cell_type": "markdown",
   "metadata": {},
   "source": [
    "# Columns?\n",
    "\n",
    "target:\n",
    "4342 (57%) not, 3271 (43%) disaster - fairly balanced\n",
    "\n",
    "\n",
    "* id - totally unique ints\n",
    "* keyword - 0.8% missing, 221 unique values\n",
    "    * 0.4% not 1.3% disaster - so missing is slightly predictive of disaster\n",
    "* location - third missing, nearly half unique, hard to deal with\n",
    "* text - the text, interestingly not unique... \n"
   ]
  },
  {
   "cell_type": "code",
   "execution_count": null,
   "metadata": {},
   "outputs": [],
   "source": [
    "df_train.columns"
   ]
  },
  {
   "cell_type": "code",
   "execution_count": null,
   "metadata": {},
   "outputs": [],
   "source": [
    "df_train.head()"
   ]
  },
  {
   "cell_type": "code",
   "execution_count": null,
   "metadata": {},
   "outputs": [],
   "source": [
    "df_train[\"target\"].value_counts() / 7613"
   ]
  },
  {
   "cell_type": "code",
   "execution_count": null,
   "metadata": {},
   "outputs": [],
   "source": [
    "# 7613 rows - all unique\n",
    "for col in df_train.columns:\n",
    "    print(col)\n",
    "    print(\n",
    "        f\"nunique: {df_train[col].nunique()} ({round(100*df_train[col].nunique()/7613)}%)\"\n",
    "    )\n",
    "    print(\n",
    "        f\"n missing: {df_train[col].isna().sum()} ({round(100*df_train[col].isna().sum()/7613)}%)\"\n",
    "    )"
   ]
  },
  {
   "cell_type": "code",
   "execution_count": null,
   "metadata": {},
   "outputs": [],
   "source": [
    "# for those missing, is it helpful?\n",
    "pd.crosstab(\n",
    "    df_train[\"keyword\"].isna(), df_train[\"target\"], normalize=\"columns\", margins=True\n",
    ") * 100"
   ]
  },
  {
   "cell_type": "markdown",
   "metadata": {},
   "source": [
    "# Examples"
   ]
  },
  {
   "cell_type": "markdown",
   "metadata": {},
   "source": [
    "### Points of interest:\n",
    "\n",
    "Cleaning:\n",
    "* non-ascii characters \"don\\x89Ûªt\", \"kill\\x89Û_\", \n",
    "* lots of links\n",
    "* redacted info - \"Suicide bombing at [location named]\"\n",
    "\n",
    "Features:\n",
    "* containing a link is quite predictive of disaster\n",
    "* Some have a news channel tag, e.g. \"#IndiaNews\"\n",
    "* Tweet length? Short tweets < 80 seem to be more like not a disaster\n"
   ]
  },
  {
   "cell_type": "code",
   "execution_count": null,
   "metadata": {},
   "outputs": [],
   "source": [
    "df_train.loc[df_train[\"target\"] == 1, [\"id\", \"text\"]].sample(1).values"
   ]
  },
  {
   "cell_type": "code",
   "execution_count": null,
   "metadata": {},
   "outputs": [],
   "source": [
    "# containing a link is quite predictive of disaster\n",
    "df = df_train.copy()\n",
    "df[\"contains_link\"] = df[\"text\"].str.contains(\"http://\")\n",
    "pd.crosstab(df[\"contains_link\"], df[\"target\"], normalize=\"columns\", margins=True) * 100"
   ]
  },
  {
   "cell_type": "code",
   "execution_count": null,
   "metadata": {},
   "outputs": [],
   "source": [
    "df = df_train.copy()\n",
    "df[\"tweet_length\"] = df[\"text\"].str.len()\n",
    "\n",
    "disaster_lengths = df.loc[df[\"target\"] == 1, \"tweet_length\"].values\n",
    "not_disaster_lengths = df.loc[df[\"target\"] == 0, \"tweet_length\"].values"
   ]
  },
  {
   "cell_type": "code",
   "execution_count": null,
   "metadata": {},
   "outputs": [],
   "source": [
    "plt.figure(figsize=(8, 6))\n",
    "plt.hist(disaster_lengths, bins=40, alpha=0.5, label=\"disaster\")\n",
    "plt.hist(not_disaster_lengths, bins=40, alpha=0.5, label=\"not disaster\")\n",
    "plt.xlabel(\"tweet length\", size=14)\n",
    "plt.ylabel(\"Count\", size=14)\n",
    "plt.legend(loc=\"upper left\")\n",
    "plt.show()"
   ]
  },
  {
   "cell_type": "code",
   "execution_count": null,
   "metadata": {},
   "outputs": [],
   "source": [
    "df = df_train.copy()\n",
    "df[\"tweet_word_length\"] = [len(sentence.split()) for sentence in df[\"text\"]]\n",
    "\n",
    "disaster_lengths = df.loc[df[\"target\"] == 1, \"tweet_word_length\"].values\n",
    "not_disaster_lengths = df.loc[df[\"target\"] == 0, \"tweet_word_length\"].values\n",
    "\n",
    "df.head()"
   ]
  },
  {
   "cell_type": "code",
   "execution_count": null,
   "metadata": {},
   "outputs": [],
   "source": [
    "df[\"tweet_word_length\"].describe()"
   ]
  },
  {
   "cell_type": "code",
   "execution_count": null,
   "metadata": {},
   "outputs": [],
   "source": [
    "plt.figure(figsize=(8, 6))\n",
    "plt.hist(disaster_lengths, bins=30, alpha=0.5, label=\"disaster\")\n",
    "plt.hist(not_disaster_lengths, bins=30, alpha=0.5, label=\"not disaster\")\n",
    "plt.xlabel(\"tweet word length\", size=14)\n",
    "plt.ylabel(\"Count\", size=14)\n",
    "plt.legend(loc=\"upper left\")\n",
    "plt.show()"
   ]
  },
  {
   "cell_type": "code",
   "execution_count": null,
   "metadata": {},
   "outputs": [],
   "source": []
  },
  {
   "cell_type": "code",
   "execution_count": null,
   "metadata": {},
   "outputs": [],
   "source": []
  }
 ],
 "metadata": {
  "kernelspec": {
   "display_name": "Python 3.10.6 ('py3.10_nlp_disaster')",
   "language": "python",
   "name": "python3"
  },
  "language_info": {
   "codemirror_mode": {
    "name": "ipython",
    "version": 3
   },
   "file_extension": ".py",
   "mimetype": "text/x-python",
   "name": "python",
   "nbconvert_exporter": "python",
   "pygments_lexer": "ipython3",
   "version": "3.10.6 | packaged by conda-forge | (main, Oct  7 2022, 20:14:50) [MSC v.1916 64 bit (AMD64)]"
  },
  "orig_nbformat": 4,
  "vscode": {
   "interpreter": {
    "hash": "ef635a2d656978d7450a37cc34de7f9e5a0a3dfde811e5b1115bc0dd83515c08"
   }
  }
 },
 "nbformat": 4,
 "nbformat_minor": 2
}
